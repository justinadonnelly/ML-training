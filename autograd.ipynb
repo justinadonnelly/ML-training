{
 "cells": [
  {
   "cell_type": "markdown",
   "id": "12e552d7-a116-4297-b335-71bb91e53589",
   "metadata": {},
   "source": [
    "## Autograd: How to implement training in PyTorch"
   ]
  },
  {
   "cell_type": "markdown",
   "id": "ea239069-9f89-438f-9fe0-52b2513c2847",
   "metadata": {},
   "source": [
    "Recall the structure of a neural network and the backpropagation gradient descent approaches to train it."
   ]
  },
  {
   "cell_type": "code",
   "execution_count": 1,
   "id": "b65b66b1-4fbd-4771-9be9-1348051987ea",
   "metadata": {},
   "outputs": [],
   "source": [
    "# Import a pre-trained image classification model\n",
    "import torch\n",
    "from torchvision.models import resnet18, ResNet18_Weights\n",
    "model = resnet18(weights=ResNet18_Weights.DEFAULT)"
   ]
  },
  {
   "cell_type": "code",
   "execution_count": 2,
   "id": "07b67589-938b-4527-aeee-8df1633cc8b2",
   "metadata": {},
   "outputs": [],
   "source": [
    "# Initialize a random labeled example the model can interpret\n",
    "data = torch.rand(1, 3, 64, 64) # feeds in a random 3-channel (RGB) image 64x64 pixels in size\n",
    "label = torch.rand(1, 1000) # label in this pre-trained model has shape (1, 1000)"
   ]
  },
  {
   "cell_type": "code",
   "execution_count": 3,
   "id": "30b3e6fa-6a65-4b39-bcca-04da4132c66e",
   "metadata": {},
   "outputs": [],
   "source": [
    "# Initiate forward pass\n",
    "prediction = model(data) # a neural network is still a function that takes arguments and generates an output"
   ]
  },
  {
   "cell_type": "code",
   "execution_count": 4,
   "id": "868a2cce-5d0a-4ccf-a676-91405e464601",
   "metadata": {},
   "outputs": [],
   "source": [
    "# Calculate the loss and back-propagate this information through the network\n",
    "loss = (prediction - label).sum() # calculates the loss across all datapoints in the label tensor, outputs a 0-dimensional tensor (a scalar).\n",
    "loss.backward() # performs partial differentiation across the output to determine gradient; populates the model with .grad attributes"
   ]
  },
  {
   "cell_type": "markdown",
   "id": "0bf2c1e1-539e-4d6d-a8d6-b1152d349123",
   "metadata": {},
   "source": [
    "Note that in real training practice, a difference of squares or other loss function would be used. The sum of differences method is used here for clarity."
   ]
  },
  {
   "cell_type": "code",
   "execution_count": 5,
   "id": "c80d41b5-22de-49e1-a904-396c1094278a",
   "metadata": {},
   "outputs": [],
   "source": [
    "# Load an optimizer of choice to update the model parameters\n",
    "optim = torch.optim.SGD(model.parameters(), lr=1e-2, momentum=0.9) # specifies stochastic gradient descent with learning rate of 0.01 and momentum of 0.9"
   ]
  },
  {
   "cell_type": "code",
   "execution_count": 6,
   "id": "3f83ef63-dad8-4875-b5b4-6e41b7da113f",
   "metadata": {},
   "outputs": [],
   "source": [
    "optim.step() # performs gradient descent on model parameters"
   ]
  },
  {
   "cell_type": "code",
   "execution_count": null,
   "id": "67ffba48-4bc3-408f-af6c-fe2eac965d71",
   "metadata": {},
   "outputs": [],
   "source": []
  }
 ],
 "metadata": {
  "kernelspec": {
   "display_name": "Python (ML-bio-sprint)",
   "language": "python",
   "name": "mlbio"
  },
  "language_info": {
   "codemirror_mode": {
    "name": "ipython",
    "version": 3
   },
   "file_extension": ".py",
   "mimetype": "text/x-python",
   "name": "python",
   "nbconvert_exporter": "python",
   "pygments_lexer": "ipython3",
   "version": "3.9.0"
  }
 },
 "nbformat": 4,
 "nbformat_minor": 5
}
