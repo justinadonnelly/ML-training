{
 "cells": [
  {
   "cell_type": "code",
   "execution_count": 1,
   "id": "57882e89-080e-42f1-8ae1-87b9b0a05640",
   "metadata": {},
   "outputs": [],
   "source": [
    "import torch\n",
    "import numpy as np"
   ]
  },
  {
   "cell_type": "code",
   "execution_count": 2,
   "id": "2aa4774c-4f7c-4ee5-983e-1b5394d4ea85",
   "metadata": {},
   "outputs": [
    {
     "data": {
      "text/plain": [
       "tensor([[1, 2],\n",
       "        [3, 4]])"
      ]
     },
     "execution_count": 2,
     "metadata": {},
     "output_type": "execute_result"
    }
   ],
   "source": [
    "# Initializing a tensor directly\n",
    "data = [[1, 2], [3, 4]]\n",
    "x_data = torch.tensor(data)\n",
    "x_data"
   ]
  },
  {
   "cell_type": "code",
   "execution_count": 3,
   "id": "cc5452fb-4145-4cb2-b42f-bdcb14c8d7d1",
   "metadata": {},
   "outputs": [
    {
     "data": {
      "text/plain": [
       "tensor([[1, 2],\n",
       "        [3, 4]])"
      ]
     },
     "execution_count": 3,
     "metadata": {},
     "output_type": "execute_result"
    }
   ],
   "source": [
    "# Creating a tensor from a NumPy array\n",
    "np_array = np.array(data)\n",
    "x_np = torch.from_numpy(np_array)\n",
    "x_np"
   ]
  },
  {
   "cell_type": "code",
   "execution_count": 6,
   "id": "731ad9bf-e594-4700-8895-2215b1a942ca",
   "metadata": {},
   "outputs": [
    {
     "name": "stdout",
     "output_type": "stream",
     "text": [
      "Tensor of ones: \n",
      " tensor([[1, 1],\n",
      "        [1, 1]]) \n",
      "\n",
      "Tensor of rands: \n",
      " tensor([[0.2015, 0.2758],\n",
      "        [0.0945, 0.5539]]) \n",
      "\n"
     ]
    }
   ],
   "source": [
    "# Creating new tensors with the same shape as existing tensors\n",
    "x_ones = torch.ones_like(x_data) # torch.ones_like creates a tensor of ones with the same shape as x_data\n",
    "print(f\"Tensor of ones: \\n {x_ones} \\n\")\n",
    "x_rand = torch.rand_like(x_data, dtype = torch.float) # torch.rand_like creates a tensor of random floats 0-1 with the same shape as x_data; dtype overrides the datatype to create floats\n",
    "print(f\"Tensor of rands: \\n {x_rand} \\n\")"
   ]
  },
  {
   "cell_type": "code",
   "execution_count": 8,
   "id": "df8db89a-04dd-48b2-91ba-47c24b8b6ac5",
   "metadata": {},
   "outputs": [
    {
     "name": "stdout",
     "output_type": "stream",
     "text": [
      "Random Tensor: \n",
      " tensor([[0.6811, 0.1842, 0.7742],\n",
      "        [0.4435, 0.3751, 0.5581]]) \n",
      "\n",
      "Ones Tensor: \n",
      " tensor([[1., 1., 1.],\n",
      "        [1., 1., 1.]]) \n",
      "\n",
      "Zeros Tensor: \n",
      " tensor([[0., 0., 0.],\n",
      "        [0., 0., 0.]])\n"
     ]
    }
   ],
   "source": [
    "# Automatically generating tensors of defined shape\n",
    "shape = (2, 3,) # tuple defining tensor dimensions\n",
    "rand = torch.rand(shape)\n",
    "ones = torch.ones(shape)\n",
    "zeros = torch.zeros(shape)\n",
    "\n",
    "print(f\"Random Tensor: \\n {rand} \\n\")\n",
    "print(f\"Ones Tensor: \\n {ones} \\n\")\n",
    "print(f\"Zeros Tensor: \\n {zeros}\")"
   ]
  },
  {
   "cell_type": "code",
   "execution_count": 10,
   "id": "23692341-716c-46a7-9af3-14b5648265c4",
   "metadata": {},
   "outputs": [
    {
     "name": "stdout",
     "output_type": "stream",
     "text": [
      "Shape of tensor: torch.Size([3, 4])\n",
      "Datatype of tensor: torch.float32\n",
      "Device tensor is stored on: cpu\n"
     ]
    }
   ],
   "source": [
    "# Extracting tensor attributes\n",
    "tensor = torch.rand(3, 4)\n",
    "\n",
    "print(f\"Shape of tensor: {tensor.shape}\") # note the syntax to extract the shape attribute\n",
    "print(f\"Datatype of tensor: {tensor.dtype}\")\n",
    "print(f\"Device tensor is stored on: {tensor.device}\")"
   ]
  },
  {
   "cell_type": "code",
   "execution_count": 11,
   "id": "e717e2cc-7ec6-4b39-81f5-ebc1b5f979a4",
   "metadata": {},
   "outputs": [],
   "source": [
    "# Intel Macs can't use their GPUs for PyTorch - set up Google Colab for this\n",
    "if torch.cuda.is_available():\n",
    "    tensor = tensor.to('cuda')\n",
    "    print(f\"Device tensor is stored on: {tensor.device}\")"
   ]
  },
  {
   "cell_type": "code",
   "execution_count": null,
   "id": "edb09ede-c0e0-4bb3-97df-5413588994bf",
   "metadata": {},
   "outputs": [],
   "source": []
  }
 ],
 "metadata": {
  "kernelspec": {
   "display_name": "Python (ML-bio-sprint)",
   "language": "python",
   "name": "mlbio"
  },
  "language_info": {
   "codemirror_mode": {
    "name": "ipython",
    "version": 3
   },
   "file_extension": ".py",
   "mimetype": "text/x-python",
   "name": "python",
   "nbconvert_exporter": "python",
   "pygments_lexer": "ipython3",
   "version": "3.9.0"
  }
 },
 "nbformat": 4,
 "nbformat_minor": 5
}
